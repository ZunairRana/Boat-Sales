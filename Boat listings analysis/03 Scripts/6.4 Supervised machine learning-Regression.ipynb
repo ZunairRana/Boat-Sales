{
 "cells": [
  {
   "cell_type": "markdown",
   "id": "a79b8b9c",
   "metadata": {},
   "source": [
    "# Supervised Machine Learning: Regression\n",
    "\n",
    "## Contents\n",
    "\n",
    "### 01 Importing libraries and data set\n",
    "### 02 Data cleaning\n",
    "### 03 Data prep for regression analysis\n",
    "### 04 Regression analysis"
   ]
  },
  {
   "cell_type": "markdown",
   "id": "e57d8a69",
   "metadata": {},
   "source": [
    "## 01 Importing libraries and data set"
   ]
  },
  {
   "cell_type": "code",
   "execution_count": 1,
   "id": "9c374e21",
   "metadata": {},
   "outputs": [],
   "source": [
    "import pandas as pd\n",
    "import numpy as np\n",
    "import seaborn as sns\n",
    "import matplotlib\n",
    "import matplotlib.pyplot as plt\n",
    "import os \n",
    "import sklearn\n",
    "from sklearn.model_selection import train_test_split\n",
    "from sklearn.linear_model import LinearRegression\n",
    "from sklearn.metrics import mean_squared_error, r2_score"
   ]
  },
  {
   "cell_type": "code",
   "execution_count": 2,
   "id": "90deefb5",
   "metadata": {},
   "outputs": [],
   "source": [
    "# This option ensures that the graphs created are displayed within the notebook without the need to \"call\" them specifically.\n",
    "\n",
    "%matplotlib inline"
   ]
  },
  {
   "cell_type": "code",
   "execution_count": 3,
   "id": "68db4efc",
   "metadata": {},
   "outputs": [],
   "source": [
    "# Creating path\n",
    "path = r'C:\\Users\\zunai\\OneDrive\\Documents\\Data Analytics\\Achievement 6\\Boat listings analysis'"
   ]
  },
  {
   "cell_type": "code",
   "execution_count": 4,
   "id": "fb0ff534",
   "metadata": {},
   "outputs": [],
   "source": [
    "# Import data set\n",
    "df = pd.read_csv(os.path.join(path, '02 Data', 'boat_data_cleaned.csv'), index_col = False)"
   ]
  },
  {
   "cell_type": "code",
   "execution_count": 5,
   "id": "91f79d70",
   "metadata": {},
   "outputs": [
    {
     "data": {
      "text/html": [
       "<div>\n",
       "<style scoped>\n",
       "    .dataframe tbody tr th:only-of-type {\n",
       "        vertical-align: middle;\n",
       "    }\n",
       "\n",
       "    .dataframe tbody tr th {\n",
       "        vertical-align: top;\n",
       "    }\n",
       "\n",
       "    .dataframe thead th {\n",
       "        text-align: right;\n",
       "    }\n",
       "</style>\n",
       "<table border=\"1\" class=\"dataframe\">\n",
       "  <thead>\n",
       "    <tr style=\"text-align: right;\">\n",
       "      <th></th>\n",
       "      <th>Unnamed: 0</th>\n",
       "      <th>Boat Type</th>\n",
       "      <th>Manufacturer</th>\n",
       "      <th>Type</th>\n",
       "      <th>Year Built</th>\n",
       "      <th>Length</th>\n",
       "      <th>Width</th>\n",
       "      <th>Material</th>\n",
       "      <th>Number of views last 7 days</th>\n",
       "      <th>EUR_price</th>\n",
       "      <th>Country</th>\n",
       "      <th>City</th>\n",
       "    </tr>\n",
       "  </thead>\n",
       "  <tbody>\n",
       "    <tr>\n",
       "      <th>0</th>\n",
       "      <td>1</td>\n",
       "      <td>Center console boat</td>\n",
       "      <td>Terhi power boats</td>\n",
       "      <td>new boat from stock</td>\n",
       "      <td>2020</td>\n",
       "      <td>4.00</td>\n",
       "      <td>1.50</td>\n",
       "      <td>Thermoplastic</td>\n",
       "      <td>75</td>\n",
       "      <td>3490.0</td>\n",
       "      <td>Germany</td>\n",
       "      <td>BÃ¶nningstedt</td>\n",
       "    </tr>\n",
       "    <tr>\n",
       "      <th>1</th>\n",
       "      <td>4</td>\n",
       "      <td>Fishing Boat</td>\n",
       "      <td>Linder power boats</td>\n",
       "      <td>new boat from stock</td>\n",
       "      <td>2019</td>\n",
       "      <td>3.55</td>\n",
       "      <td>1.46</td>\n",
       "      <td>Aluminium</td>\n",
       "      <td>58</td>\n",
       "      <td>3399.0</td>\n",
       "      <td>Germany</td>\n",
       "      <td>Bayern</td>\n",
       "    </tr>\n",
       "    <tr>\n",
       "      <th>2</th>\n",
       "      <td>10</td>\n",
       "      <td>Fishing Boat</td>\n",
       "      <td>Terhi power boats</td>\n",
       "      <td>Used boat,Electric</td>\n",
       "      <td>1987</td>\n",
       "      <td>4.35</td>\n",
       "      <td>1.75</td>\n",
       "      <td>GRP</td>\n",
       "      <td>239</td>\n",
       "      <td>3535.0</td>\n",
       "      <td>Switzerland</td>\n",
       "      <td>Seengen</td>\n",
       "    </tr>\n",
       "    <tr>\n",
       "      <th>3</th>\n",
       "      <td>12</td>\n",
       "      <td>Sport Boat</td>\n",
       "      <td>GS Nautica power boats</td>\n",
       "      <td>Used boat</td>\n",
       "      <td>2004</td>\n",
       "      <td>4.70</td>\n",
       "      <td>2.00</td>\n",
       "      <td>GRP</td>\n",
       "      <td>69</td>\n",
       "      <td>3500.0</td>\n",
       "      <td>Italy</td>\n",
       "      <td>Lake Garda</td>\n",
       "    </tr>\n",
       "    <tr>\n",
       "      <th>4</th>\n",
       "      <td>13</td>\n",
       "      <td>Runabout</td>\n",
       "      <td>Kimple power boats</td>\n",
       "      <td>new boat from stock</td>\n",
       "      <td>2020</td>\n",
       "      <td>4.40</td>\n",
       "      <td>1.65</td>\n",
       "      <td>Aluminium</td>\n",
       "      <td>113</td>\n",
       "      <td>4646.0</td>\n",
       "      <td>Switzerland</td>\n",
       "      <td>Zugersee</td>\n",
       "    </tr>\n",
       "  </tbody>\n",
       "</table>\n",
       "</div>"
      ],
      "text/plain": [
       "   Unnamed: 0            Boat Type            Manufacturer  \\\n",
       "0           1  Center console boat       Terhi power boats   \n",
       "1           4         Fishing Boat      Linder power boats   \n",
       "2          10         Fishing Boat       Terhi power boats   \n",
       "3          12           Sport Boat  GS Nautica power boats   \n",
       "4          13             Runabout      Kimple power boats   \n",
       "\n",
       "                  Type  Year Built  Length  Width       Material  \\\n",
       "0  new boat from stock        2020    4.00   1.50  Thermoplastic   \n",
       "1  new boat from stock        2019    3.55   1.46      Aluminium   \n",
       "2   Used boat,Electric        1987    4.35   1.75            GRP   \n",
       "3            Used boat        2004    4.70   2.00            GRP   \n",
       "4  new boat from stock        2020    4.40   1.65      Aluminium   \n",
       "\n",
       "   Number of views last 7 days  EUR_price       Country            City  \n",
       "0                           75     3490.0      Germany    BÃ¶nningstedt  \n",
       "1                           58     3399.0      Germany          Bayern   \n",
       "2                          239     3535.0  Switzerland          Seengen  \n",
       "3                           69     3500.0        Italy      Lake Garda   \n",
       "4                          113     4646.0  Switzerland        Zugersee   "
      ]
     },
     "execution_count": 5,
     "metadata": {},
     "output_type": "execute_result"
    }
   ],
   "source": [
    "df.head()"
   ]
  },
  {
   "cell_type": "code",
   "execution_count": 6,
   "id": "98004004",
   "metadata": {},
   "outputs": [
    {
     "data": {
      "text/plain": [
       "(6001, 12)"
      ]
     },
     "execution_count": 6,
     "metadata": {},
     "output_type": "execute_result"
    }
   ],
   "source": [
    "df.shape"
   ]
  },
  {
   "cell_type": "code",
   "execution_count": 7,
   "id": "98dd6d55",
   "metadata": {},
   "outputs": [],
   "source": [
    "# Drop columns not needed\n",
    "df = df.drop(['Unnamed: 0'], axis = 1)"
   ]
  },
  {
   "cell_type": "markdown",
   "id": "d5bea4f4",
   "metadata": {},
   "source": [
    "## 02 Data cleaning"
   ]
  },
  {
   "cell_type": "code",
   "execution_count": 8,
   "id": "e29eb74c",
   "metadata": {},
   "outputs": [],
   "source": [
    "# Rename column \n",
    "df.rename(columns = {'Number of views last 7 days':'7days_views'}, inplace = True)"
   ]
  },
  {
   "cell_type": "code",
   "execution_count": 9,
   "id": "c23aa708",
   "metadata": {},
   "outputs": [
    {
     "data": {
      "text/plain": [
       "Index(['Boat Type', 'Manufacturer', 'Type', 'Year Built', 'Length', 'Width',\n",
       "       'Material', '7days_views', 'EUR_price', 'Country', 'City'],\n",
       "      dtype='object')"
      ]
     },
     "execution_count": 9,
     "metadata": {},
     "output_type": "execute_result"
    }
   ],
   "source": [
    "df.columns"
   ]
  },
  {
   "cell_type": "code",
   "execution_count": 10,
   "id": "52b692e8",
   "metadata": {},
   "outputs": [
    {
     "data": {
      "text/plain": [
       "Boat Type       0\n",
       "Manufacturer    0\n",
       "Type            0\n",
       "Year Built      0\n",
       "Length          0\n",
       "Width           0\n",
       "Material        0\n",
       "7days_views     0\n",
       "EUR_price       0\n",
       "Country         0\n",
       "City            0\n",
       "dtype: int64"
      ]
     },
     "execution_count": 10,
     "metadata": {},
     "output_type": "execute_result"
    }
   ],
   "source": [
    "# Check for missing values\n",
    "df.isnull().sum()"
   ]
  },
  {
   "cell_type": "code",
   "execution_count": 11,
   "id": "4e99ebae",
   "metadata": {},
   "outputs": [],
   "source": [
    "# Check for duplicates\n",
    "dups = df.duplicated()"
   ]
  },
  {
   "cell_type": "code",
   "execution_count": 12,
   "id": "db88080c",
   "metadata": {},
   "outputs": [
    {
     "data": {
      "text/plain": [
       "(6001,)"
      ]
     },
     "execution_count": 12,
     "metadata": {},
     "output_type": "execute_result"
    }
   ],
   "source": [
    "dups.shape\n",
    "# No duplicates found"
   ]
  },
  {
   "cell_type": "code",
   "execution_count": 13,
   "id": "25fdafd0",
   "metadata": {},
   "outputs": [
    {
     "name": "stderr",
     "output_type": "stream",
     "text": [
      "C:\\Users\\zunai\\anaconda3\\lib\\site-packages\\seaborn\\distributions.py:2619: FutureWarning: `distplot` is a deprecated function and will be removed in a future version. Please adapt your code to use either `displot` (a figure-level function with similar flexibility) or `histplot` (an axes-level function for histograms).\n",
      "  warnings.warn(msg, FutureWarning)\n"
     ]
    },
    {
     "data": {
      "text/plain": [
       "<AxesSubplot:xlabel='Length', ylabel='Density'>"
      ]
     },
     "execution_count": 13,
     "metadata": {},
     "output_type": "execute_result"
    },
    {
     "data": {
      "image/png": "[encoded data removed]",
      "text/plain": [
       "<Figure size 640x480 with 1 Axes>"
      ]
     },
     "metadata": {},
     "output_type": "display_data"
    }
   ],
   "source": [
    "# Check for extreme values\n",
    "sns.distplot(df['Length'], bins = 25)"
   ]
  },
  {
   "cell_type": "code",
   "execution_count": 14,
   "id": "1b5a6fef",
   "metadata": {},
   "outputs": [
    {
     "data": {
      "text/plain": [
       "10.834530911514786"
      ]
     },
     "execution_count": 14,
     "metadata": {},
     "output_type": "execute_result"
    }
   ],
   "source": [
    "df['Length'].mean()"
   ]
  },
  {
   "cell_type": "code",
   "execution_count": 15,
   "id": "e76e6c0e",
   "metadata": {},
   "outputs": [
    {
     "data": {
      "text/plain": [
       "9.88"
      ]
     },
     "execution_count": 15,
     "metadata": {},
     "output_type": "execute_result"
    }
   ],
   "source": [
    "df['Length'].median()"
   ]
  },
  {
   "cell_type": "code",
   "execution_count": 16,
   "id": "48b291e3",
   "metadata": {},
   "outputs": [
    {
     "data": {
      "text/plain": [
       "56.0"
      ]
     },
     "execution_count": 16,
     "metadata": {},
     "output_type": "execute_result"
    }
   ],
   "source": [
    "df['Length'].max()"
   ]
  },
  {
   "cell_type": "code",
   "execution_count": 17,
   "id": "9bd09da1",
   "metadata": {},
   "outputs": [
    {
     "data": {
      "text/plain": [
       "2.32"
      ]
     },
     "execution_count": 17,
     "metadata": {},
     "output_type": "execute_result"
    }
   ],
   "source": [
    "df['Length'].min()"
   ]
  },
  {
   "cell_type": "markdown",
   "id": "3589b522",
   "metadata": {},
   "source": [
    "## 03 Data prep for regression analysis"
   ]
  },
  {
   "cell_type": "code",
   "execution_count": 18,
   "id": "bc472659",
   "metadata": {},
   "outputs": [
    {
     "data": {
      "image/png": "[encoded data removed]",
      "text/plain": [
       "<Figure size 640x480 with 1 Axes>"
      ]
     },
     "metadata": {},
     "output_type": "display_data"
    }
   ],
   "source": [
    "# Create a scatterplot using matplotlib for another look at how the chosen variables plot against each other\n",
    "df.plot(x= 'Length', y = 'EUR_price', style = 'o')\n",
    "plt.title('Boat Length vs Price')\n",
    "plt.xlabel('Length (m)')\n",
    "plt.ylabel('Price (Euros)')\n",
    "plt.show()"
   ]
  },
  {
   "cell_type": "code",
   "execution_count": 19,
   "id": "418db6d4",
   "metadata": {},
   "outputs": [],
   "source": [
    "# Reshape the variables into NumPy arrays and put them into separate objects.\n",
    "X = df['Length'].values.reshape(-1,1)\n",
    "y = df['EUR_price'].values.reshape(-1,1)"
   ]
  },
  {
   "cell_type": "code",
   "execution_count": 20,
   "id": "017162c9",
   "metadata": {},
   "outputs": [
    {
     "data": {
      "text/plain": [
       "array([[4.  ],\n",
       "       [3.55],\n",
       "       [4.35],\n",
       "       ...,\n",
       "       [6.  ],\n",
       "       [4.4 ],\n",
       "       [3.6 ]])"
      ]
     },
     "execution_count": 20,
     "metadata": {},
     "output_type": "execute_result"
    }
   ],
   "source": [
    "X"
   ]
  },
  {
   "cell_type": "code",
   "execution_count": 21,
   "id": "e13c23ab",
   "metadata": {},
   "outputs": [
    {
     "data": {
      "text/plain": [
       "array([[3490. ],\n",
       "       [3399. ],\n",
       "       [3535. ],\n",
       "       ...,\n",
       "       [4999.5],\n",
       "       [4499. ],\n",
       "       [3817.8]])"
      ]
     },
     "execution_count": 21,
     "metadata": {},
     "output_type": "execute_result"
    }
   ],
   "source": [
    "y"
   ]
  },
  {
   "cell_type": "code",
   "execution_count": 22,
   "id": "575a8739",
   "metadata": {},
   "outputs": [],
   "source": [
    "# Split data into a training set and a test set\n",
    "X_train, X_test, y_train, y_test = train_test_split(X, y, test_size = 0.3, random_state = 0)"
   ]
  },
  {
   "cell_type": "code",
   "execution_count": 23,
   "id": "caf00ff8",
   "metadata": {},
   "outputs": [],
   "source": [
    "# Create a regression object\n",
    "regression = LinearRegression() # This is the regression object, which will be fit onto the training set"
   ]
  },
  {
   "cell_type": "code",
   "execution_count": 24,
   "id": "ff4654b2",
   "metadata": {},
   "outputs": [
    {
     "data": {
      "text/plain": [
       "LinearRegression()"
      ]
     },
     "execution_count": 24,
     "metadata": {},
     "output_type": "execute_result"
    }
   ],
   "source": [
    "# Fit the regression object onto the training set\n",
    "regression.fit(X_train, y_train)"
   ]
  },
  {
   "cell_type": "code",
   "execution_count": 25,
   "id": "6cf45c5d",
   "metadata": {},
   "outputs": [],
   "source": [
    "# Predict the values of y using X\n",
    "y_predicted = regression.predict(X_test)"
   ]
  },
  {
   "cell_type": "code",
   "execution_count": 26,
   "id": "ba4e3c0c",
   "metadata": {},
   "outputs": [
    {
     "data": {
      "image/png": "[encoded data removed]",
      "text/plain": [
       "<Figure size 640x480 with 1 Axes>"
      ]
     },
     "metadata": {},
     "output_type": "display_data"
    }
   ],
   "source": [
    "# Create a plot that shows the regression line from the model on the test set\n",
    "plot_test = plt\n",
    "plot_test.scatter(X_test, y_test, color = 'gray', s = 15)\n",
    "plot_test.plot(X_test, y_predicted, color = 'red', linewidth = 2)\n",
    "plot_test.title('Boat Length vs Price (Test Set)')\n",
    "plot_test.xlabel('Length (m)')\n",
    "plot_test.ylabel('Price (Euros)')\n",
    "plot_test.show()"
   ]
  },
  {
   "cell_type": "code",
   "execution_count": 27,
   "id": "cc81cdf6",
   "metadata": {},
   "outputs": [],
   "source": [
    "# Create objects that contain the model summary statistics\n",
    "rmse = mean_squared_error(y_test, y_predicted) # This is the mean squared error\n",
    "r2 = r2_score(y_test, y_predicted) # This is the R2 score"
   ]
  },
  {
   "cell_type": "code",
   "execution_count": 28,
   "id": "dea4d4a3",
   "metadata": {},
   "outputs": [
    {
     "name": "stdout",
     "output_type": "stream",
     "text": [
      "Slope: [[87136.89965407]]\n",
      "Mean squared error: 188072770517.2413\n",
      "R2 score: 0.37536249930836396\n"
     ]
    }
   ],
   "source": [
    "# Print the model summary statistics. This is where you evaluate the performance of the model\n",
    "\n",
    "print('Slope:', regression.coef_)\n",
    "print('Mean squared error:', rmse)\n",
    "print('R2 score:', r2)"
   ]
  },
  {
   "cell_type": "markdown",
   "id": "13e69954",
   "metadata": {},
   "source": [
    "#### Interpretation\n",
    "\n",
    "The slope is positive, so the relationship is positive. This aligns with the hypothesis that the longer the boat length, the higher the price. The MSE is high at 188072770517, so the regression line is not at all a representation of the data. Also, the R2 score of 0.375 represents a poor fit."
   ]
  },
  {
   "cell_type": "code",
   "execution_count": 29,
   "id": "4cde96c0",
   "metadata": {},
   "outputs": [
    {
     "data": {
      "text/plain": [
       "array([[ 193169.69573159],\n",
       "       [-144050.10592967],\n",
       "       [ 209725.70666586],\n",
       "       ...,\n",
       "       [-137950.52295389],\n",
       "       [  10182.20645803],\n",
       "       [  -4631.06648316]])"
      ]
     },
     "execution_count": 29,
     "metadata": {},
     "output_type": "execute_result"
    }
   ],
   "source": [
    "y_predicted"
   ]
  },
  {
   "cell_type": "code",
   "execution_count": 30,
   "id": "5c8d7534",
   "metadata": {},
   "outputs": [],
   "source": [
    "# Create a dataframe comparing the actual and predicted values of y\n",
    "data = pd.DataFrame({'Actual': y_test.flatten(), 'Predicted': y_predicted.flatten()})"
   ]
  },
  {
   "cell_type": "code",
   "execution_count": 31,
   "id": "eb0aeda2",
   "metadata": {},
   "outputs": [
    {
     "data": {
      "text/html": [
       "<div>\n",
       "<style scoped>\n",
       "    .dataframe tbody tr th:only-of-type {\n",
       "        vertical-align: middle;\n",
       "    }\n",
       "\n",
       "    .dataframe tbody tr th {\n",
       "        vertical-align: top;\n",
       "    }\n",
       "\n",
       "    .dataframe thead th {\n",
       "        text-align: right;\n",
       "    }\n",
       "</style>\n",
       "<table border=\"1\" class=\"dataframe\">\n",
       "  <thead>\n",
       "    <tr style=\"text-align: right;\">\n",
       "      <th></th>\n",
       "      <th>Actual</th>\n",
       "      <th>Predicted</th>\n",
       "    </tr>\n",
       "  </thead>\n",
       "  <tbody>\n",
       "    <tr>\n",
       "      <th>0</th>\n",
       "      <td>69900.0</td>\n",
       "      <td>1.931697e+05</td>\n",
       "    </tr>\n",
       "    <tr>\n",
       "      <th>1</th>\n",
       "      <td>55449.0</td>\n",
       "      <td>-1.440501e+05</td>\n",
       "    </tr>\n",
       "    <tr>\n",
       "      <th>2</th>\n",
       "      <td>90000.0</td>\n",
       "      <td>2.097257e+05</td>\n",
       "    </tr>\n",
       "    <tr>\n",
       "      <th>3</th>\n",
       "      <td>38900.0</td>\n",
       "      <td>7.553488e+04</td>\n",
       "    </tr>\n",
       "    <tr>\n",
       "      <th>4</th>\n",
       "      <td>150000.0</td>\n",
       "      <td>-5.778458e+04</td>\n",
       "    </tr>\n",
       "    <tr>\n",
       "      <th>5</th>\n",
       "      <td>187000.0</td>\n",
       "      <td>8.860542e+04</td>\n",
       "    </tr>\n",
       "    <tr>\n",
       "      <th>6</th>\n",
       "      <td>34500.0</td>\n",
       "      <td>-8.479701e+04</td>\n",
       "    </tr>\n",
       "    <tr>\n",
       "      <th>7</th>\n",
       "      <td>575000.0</td>\n",
       "      <td>1.147319e+06</td>\n",
       "    </tr>\n",
       "    <tr>\n",
       "      <th>8</th>\n",
       "      <td>99890.0</td>\n",
       "      <td>1.018221e+04</td>\n",
       "    </tr>\n",
       "    <tr>\n",
       "      <th>9</th>\n",
       "      <td>15500.0</td>\n",
       "      <td>-9.873892e+04</td>\n",
       "    </tr>\n",
       "    <tr>\n",
       "      <th>10</th>\n",
       "      <td>99000.0</td>\n",
       "      <td>7.553488e+04</td>\n",
       "    </tr>\n",
       "    <tr>\n",
       "      <th>11</th>\n",
       "      <td>350000.0</td>\n",
       "      <td>7.726301e+05</td>\n",
       "    </tr>\n",
       "    <tr>\n",
       "      <th>12</th>\n",
       "      <td>105000.0</td>\n",
       "      <td>6.507845e+04</td>\n",
       "    </tr>\n",
       "    <tr>\n",
       "      <th>13</th>\n",
       "      <td>19990.0</td>\n",
       "      <td>-2.669131e+05</td>\n",
       "    </tr>\n",
       "    <tr>\n",
       "      <th>14</th>\n",
       "      <td>44900.0</td>\n",
       "      <td>-1.510211e+05</td>\n",
       "    </tr>\n",
       "    <tr>\n",
       "      <th>15</th>\n",
       "      <td>79537.5</td>\n",
       "      <td>-2.205845e+04</td>\n",
       "    </tr>\n",
       "    <tr>\n",
       "      <th>16</th>\n",
       "      <td>72000.0</td>\n",
       "      <td>2.149539e+05</td>\n",
       "    </tr>\n",
       "    <tr>\n",
       "      <th>17</th>\n",
       "      <td>66990.0</td>\n",
       "      <td>-9.002523e+04</td>\n",
       "    </tr>\n",
       "    <tr>\n",
       "      <th>18</th>\n",
       "      <td>49490.0</td>\n",
       "      <td>-5.865594e+04</td>\n",
       "    </tr>\n",
       "    <tr>\n",
       "      <th>19</th>\n",
       "      <td>245000.0</td>\n",
       "      <td>4.502235e+05</td>\n",
       "    </tr>\n",
       "    <tr>\n",
       "      <th>20</th>\n",
       "      <td>51000.0</td>\n",
       "      <td>7.553488e+04</td>\n",
       "    </tr>\n",
       "    <tr>\n",
       "      <th>21</th>\n",
       "      <td>78000.0</td>\n",
       "      <td>3.090618e+05</td>\n",
       "    </tr>\n",
       "    <tr>\n",
       "      <th>22</th>\n",
       "      <td>69500.0</td>\n",
       "      <td>5.007630e+05</td>\n",
       "    </tr>\n",
       "    <tr>\n",
       "      <th>23</th>\n",
       "      <td>45450.0</td>\n",
       "      <td>-5.778458e+04</td>\n",
       "    </tr>\n",
       "    <tr>\n",
       "      <th>24</th>\n",
       "      <td>177900.0</td>\n",
       "      <td>5.983563e+05</td>\n",
       "    </tr>\n",
       "    <tr>\n",
       "      <th>25</th>\n",
       "      <td>23735.0</td>\n",
       "      <td>-1.841331e+05</td>\n",
       "    </tr>\n",
       "    <tr>\n",
       "      <th>26</th>\n",
       "      <td>275000.0</td>\n",
       "      <td>5.922567e+05</td>\n",
       "    </tr>\n",
       "    <tr>\n",
       "      <th>27</th>\n",
       "      <td>25149.0</td>\n",
       "      <td>9.731911e+04</td>\n",
       "    </tr>\n",
       "    <tr>\n",
       "      <th>28</th>\n",
       "      <td>59000.0</td>\n",
       "      <td>3.116759e+05</td>\n",
       "    </tr>\n",
       "    <tr>\n",
       "      <th>29</th>\n",
       "      <td>58500.0</td>\n",
       "      <td>-4.297130e+04</td>\n",
       "    </tr>\n",
       "  </tbody>\n",
       "</table>\n",
       "</div>"
      ],
      "text/plain": [
       "      Actual     Predicted\n",
       "0    69900.0  1.931697e+05\n",
       "1    55449.0 -1.440501e+05\n",
       "2    90000.0  2.097257e+05\n",
       "3    38900.0  7.553488e+04\n",
       "4   150000.0 -5.778458e+04\n",
       "5   187000.0  8.860542e+04\n",
       "6    34500.0 -8.479701e+04\n",
       "7   575000.0  1.147319e+06\n",
       "8    99890.0  1.018221e+04\n",
       "9    15500.0 -9.873892e+04\n",
       "10   99000.0  7.553488e+04\n",
       "11  350000.0  7.726301e+05\n",
       "12  105000.0  6.507845e+04\n",
       "13   19990.0 -2.669131e+05\n",
       "14   44900.0 -1.510211e+05\n",
       "15   79537.5 -2.205845e+04\n",
       "16   72000.0  2.149539e+05\n",
       "17   66990.0 -9.002523e+04\n",
       "18   49490.0 -5.865594e+04\n",
       "19  245000.0  4.502235e+05\n",
       "20   51000.0  7.553488e+04\n",
       "21   78000.0  3.090618e+05\n",
       "22   69500.0  5.007630e+05\n",
       "23   45450.0 -5.778458e+04\n",
       "24  177900.0  5.983563e+05\n",
       "25   23735.0 -1.841331e+05\n",
       "26  275000.0  5.922567e+05\n",
       "27   25149.0  9.731911e+04\n",
       "28   59000.0  3.116759e+05\n",
       "29   58500.0 -4.297130e+04"
      ]
     },
     "execution_count": 31,
     "metadata": {},
     "output_type": "execute_result"
    }
   ],
   "source": [
    "data.head(30)"
   ]
  },
  {
   "cell_type": "markdown",
   "id": "8dace11e",
   "metadata": {},
   "source": [
    "#### Compare how regression fits the training set"
   ]
  },
  {
   "cell_type": "code",
   "execution_count": 32,
   "id": "a7296700",
   "metadata": {},
   "outputs": [],
   "source": [
    "# Predict\n",
    "y_predicted_train = regression.predict(X_train) # This is predicting X_train!"
   ]
  },
  {
   "cell_type": "code",
   "execution_count": 33,
   "id": "65c6b6aa",
   "metadata": {},
   "outputs": [],
   "source": [
    "rmse = mean_squared_error(y_train, y_predicted_train)\n",
    "r2 = r2_score(y_train, y_predicted_train)"
   ]
  },
  {
   "cell_type": "code",
   "execution_count": 34,
   "id": "c6f437fc",
   "metadata": {},
   "outputs": [
    {
     "name": "stdout",
     "output_type": "stream",
     "text": [
      "Slope: [[87136.89965407]]\n",
      "Mean squared error: 271273665585.87775\n",
      "R2 Score: 0.3999620630643811\n"
     ]
    }
   ],
   "source": [
    "print('Slope:', regression.coef_)\n",
    "print('Mean squared error:', rmse)\n",
    "print('R2 Score:', r2)"
   ]
  },
  {
   "cell_type": "code",
   "execution_count": 35,
   "id": "1abf037f",
   "metadata": {},
   "outputs": [
    {
     "data": {
      "image/png": "[encoded data removed]",
      "text/plain": [
       "<Figure size 640x480 with 1 Axes>"
      ]
     },
     "metadata": {},
     "output_type": "display_data"
    }
   ],
   "source": [
    "# Visualizing the training set results\n",
    "plot_test = plt\n",
    "plot_test.scatter(X_train, y_train, color = 'green', s = 15)\n",
    "plot_test.plot(X_train, y_predicted_train, color = 'red', linewidth = 2)\n",
    "plot_test.title('Boat Length vs Price (Train Set)')\n",
    "plot_test.xlabel('Length (m)')\n",
    "plot_test.ylabel('Price (Euros)')\n",
    "plot_test.show()"
   ]
  },
  {
   "cell_type": "markdown",
   "id": "ef91b05f",
   "metadata": {},
   "source": [
    "#### Performance improvement after removing outliers?"
   ]
  },
  {
   "cell_type": "code",
   "execution_count": 36,
   "id": "be072df8",
   "metadata": {},
   "outputs": [],
   "source": [
    "# Clean the extreme values from the \"Price per Unit\" variable \n",
    "df_test =  df[df['EUR_price'] < 20000000]"
   ]
  },
  {
   "cell_type": "code",
   "execution_count": 37,
   "id": "c08a0957",
   "metadata": {},
   "outputs": [
    {
     "data": {
      "image/png": "[encoded data removed]",
      "text/plain": [
       "<Figure size 640x480 with 1 Axes>"
      ]
     },
     "metadata": {},
     "output_type": "display_data"
    }
   ],
   "source": [
    "# Scatterplot without outliers\n",
    "\n",
    "df_test.plot(x = 'Length', y = 'EUR_price', style = 'o')\n",
    "plt.title('Boat Length vs Price')\n",
    "plt.xlabel('Length (m)')\n",
    "plt.ylabel('Price (Euros)')\n",
    "plt.show()"
   ]
  },
  {
   "cell_type": "code",
   "execution_count": 38,
   "id": "ff334442",
   "metadata": {},
   "outputs": [],
   "source": [
    "# Reshape the variables into NumPy arrays and put them into separate objects\n",
    "X_2 = df_test['Length'].values.reshape(-1,1)\n",
    "y_2 = df_test['EUR_price'].values.reshape(-1,1)"
   ]
  },
  {
   "cell_type": "code",
   "execution_count": 39,
   "id": "c0186505",
   "metadata": {},
   "outputs": [],
   "source": [
    "# Split test data into a training set and a test set\n",
    "X_test_2, X_train_2, y_test_2, y_train_2 = train_test_split(X_2, y_2, test_size = 0.3, random_state = 0)"
   ]
  },
  {
   "cell_type": "code",
   "execution_count": 40,
   "id": "803152d1",
   "metadata": {},
   "outputs": [
    {
     "data": {
      "text/plain": [
       "LinearRegression()"
      ]
     },
     "execution_count": 40,
     "metadata": {},
     "output_type": "execute_result"
    }
   ],
   "source": [
    "# Run and fit the regression\n",
    "regression = LinearRegression()\n",
    "regression.fit(X_train_2, y_train_2)"
   ]
  },
  {
   "cell_type": "code",
   "execution_count": 41,
   "id": "601de512",
   "metadata": {},
   "outputs": [],
   "source": [
    "# Predict\n",
    "y_predicted_2 = regression.predict(X_test_2)"
   ]
  },
  {
   "cell_type": "code",
   "execution_count": 42,
   "id": "723c792b",
   "metadata": {},
   "outputs": [],
   "source": [
    "rmse = mean_squared_error(y_test_2, y_predicted_2)\n",
    "r2 = r2_score(y_test_2, y_predicted_2)"
   ]
  },
  {
   "cell_type": "code",
   "execution_count": 43,
   "id": "55442909",
   "metadata": {},
   "outputs": [
    {
     "name": "stdout",
     "output_type": "stream",
     "text": [
      "Slope: [[77265.45572454]]\n",
      "Mean squared error: 180327151151.21246\n",
      "R2 score: 0.4316514013781433\n"
     ]
    }
   ],
   "source": [
    "print('Slope:', regression.coef_)\n",
    "print('Mean squared error:', rmse)\n",
    "print('R2 score:', r2)"
   ]
  },
  {
   "cell_type": "code",
   "execution_count": 44,
   "id": "3a05852c",
   "metadata": {},
   "outputs": [
    {
     "data": {
      "image/png": "[encoded data removed]",
      "text/plain": [
       "<Figure size 640x480 with 1 Axes>"
      ]
     },
     "metadata": {},
     "output_type": "display_data"
    }
   ],
   "source": [
    "plot_test = plt\n",
    "plot_test.scatter(X_test_2, y_test_2, color = 'green', s = 15)\n",
    "plot_test.plot(X_test_2, y_predicted_2, color = 'red', linewidth = 2)\n",
    "plot_test.title('Boat Length vs Price (Test set)')\n",
    "plot_test.xlabel('Length (m)')\n",
    "plot_test.ylabel('Price (Euros)')\n",
    "plot_test.show()"
   ]
  },
  {
   "cell_type": "code",
   "execution_count": 46,
   "id": "1b94fc4e",
   "metadata": {},
   "outputs": [
    {
     "data": {
      "text/html": [
       "<div>\n",
       "<style scoped>\n",
       "    .dataframe tbody tr th:only-of-type {\n",
       "        vertical-align: middle;\n",
       "    }\n",
       "\n",
       "    .dataframe tbody tr th {\n",
       "        vertical-align: top;\n",
       "    }\n",
       "\n",
       "    .dataframe thead th {\n",
       "        text-align: right;\n",
       "    }\n",
       "</style>\n",
       "<table border=\"1\" class=\"dataframe\">\n",
       "  <thead>\n",
       "    <tr style=\"text-align: right;\">\n",
       "      <th></th>\n",
       "      <th>Actual</th>\n",
       "      <th>Predicted</th>\n",
       "    </tr>\n",
       "  </thead>\n",
       "  <tbody>\n",
       "    <tr>\n",
       "      <th>0</th>\n",
       "      <td>49500.00</td>\n",
       "      <td>1.388980e+05</td>\n",
       "    </tr>\n",
       "    <tr>\n",
       "      <th>1</th>\n",
       "      <td>55900.00</td>\n",
       "      <td>1.504878e+05</td>\n",
       "    </tr>\n",
       "    <tr>\n",
       "      <th>2</th>\n",
       "      <td>1371535.00</td>\n",
       "      <td>8.281058e+05</td>\n",
       "    </tr>\n",
       "    <tr>\n",
       "      <th>3</th>\n",
       "      <td>237500.00</td>\n",
       "      <td>2.370251e+05</td>\n",
       "    </tr>\n",
       "    <tr>\n",
       "      <th>4</th>\n",
       "      <td>17860.84</td>\n",
       "      <td>-2.397028e+05</td>\n",
       "    </tr>\n",
       "    <tr>\n",
       "      <th>5</th>\n",
       "      <td>200000.00</td>\n",
       "      <td>5.947641e+05</td>\n",
       "    </tr>\n",
       "    <tr>\n",
       "      <th>6</th>\n",
       "      <td>450000.00</td>\n",
       "      <td>6.171711e+05</td>\n",
       "    </tr>\n",
       "    <tr>\n",
       "      <th>7</th>\n",
       "      <td>33000.00</td>\n",
       "      <td>-6.199223e+04</td>\n",
       "    </tr>\n",
       "    <tr>\n",
       "      <th>8</th>\n",
       "      <td>1705992.00</td>\n",
       "      <td>6.194891e+05</td>\n",
       "    </tr>\n",
       "    <tr>\n",
       "      <th>9</th>\n",
       "      <td>2100000.00</td>\n",
       "      <td>1.516541e+06</td>\n",
       "    </tr>\n",
       "    <tr>\n",
       "      <th>10</th>\n",
       "      <td>51500.00</td>\n",
       "      <td>-7.280940e+04</td>\n",
       "    </tr>\n",
       "    <tr>\n",
       "      <th>11</th>\n",
       "      <td>800000.00</td>\n",
       "      <td>8.659659e+05</td>\n",
       "    </tr>\n",
       "    <tr>\n",
       "      <th>12</th>\n",
       "      <td>189000.00</td>\n",
       "      <td>4.479598e+05</td>\n",
       "    </tr>\n",
       "    <tr>\n",
       "      <th>13</th>\n",
       "      <td>49999.00</td>\n",
       "      <td>-1.415757e+05</td>\n",
       "    </tr>\n",
       "    <tr>\n",
       "      <th>14</th>\n",
       "      <td>2500000.00</td>\n",
       "      <td>1.822512e+06</td>\n",
       "    </tr>\n",
       "    <tr>\n",
       "      <th>15</th>\n",
       "      <td>17900.00</td>\n",
       "      <td>-3.108605e+04</td>\n",
       "    </tr>\n",
       "    <tr>\n",
       "      <th>16</th>\n",
       "      <td>890000.00</td>\n",
       "      <td>8.953268e+05</td>\n",
       "    </tr>\n",
       "    <tr>\n",
       "      <th>17</th>\n",
       "      <td>110000.00</td>\n",
       "      <td>2.996101e+05</td>\n",
       "    </tr>\n",
       "    <tr>\n",
       "      <th>18</th>\n",
       "      <td>16000.00</td>\n",
       "      <td>-5.426569e+04</td>\n",
       "    </tr>\n",
       "    <tr>\n",
       "      <th>19</th>\n",
       "      <td>675000.00</td>\n",
       "      <td>6.573492e+05</td>\n",
       "    </tr>\n",
       "    <tr>\n",
       "      <th>20</th>\n",
       "      <td>17950.00</td>\n",
       "      <td>-2.937886e+05</td>\n",
       "    </tr>\n",
       "    <tr>\n",
       "      <th>21</th>\n",
       "      <td>5048.99</td>\n",
       "      <td>-1.392577e+05</td>\n",
       "    </tr>\n",
       "    <tr>\n",
       "      <th>22</th>\n",
       "      <td>99000.00</td>\n",
       "      <td>5.561314e+05</td>\n",
       "    </tr>\n",
       "    <tr>\n",
       "      <th>23</th>\n",
       "      <td>145440.00</td>\n",
       "      <td>1.527322e+04</td>\n",
       "    </tr>\n",
       "    <tr>\n",
       "      <th>24</th>\n",
       "      <td>40198.00</td>\n",
       "      <td>-1.933435e+05</td>\n",
       "    </tr>\n",
       "    <tr>\n",
       "      <th>25</th>\n",
       "      <td>67900.00</td>\n",
       "      <td>2.531773e+04</td>\n",
       "    </tr>\n",
       "    <tr>\n",
       "      <th>26</th>\n",
       "      <td>191799.00</td>\n",
       "      <td>2.238900e+05</td>\n",
       "    </tr>\n",
       "    <tr>\n",
       "      <th>27</th>\n",
       "      <td>45999.00</td>\n",
       "      <td>-4.422118e+04</td>\n",
       "    </tr>\n",
       "    <tr>\n",
       "      <th>28</th>\n",
       "      <td>400000.00</td>\n",
       "      <td>3.676037e+05</td>\n",
       "    </tr>\n",
       "    <tr>\n",
       "      <th>29</th>\n",
       "      <td>149000.00</td>\n",
       "      <td>2.393430e+05</td>\n",
       "    </tr>\n",
       "  </tbody>\n",
       "</table>\n",
       "</div>"
      ],
      "text/plain": [
       "        Actual     Predicted\n",
       "0     49500.00  1.388980e+05\n",
       "1     55900.00  1.504878e+05\n",
       "2   1371535.00  8.281058e+05\n",
       "3    237500.00  2.370251e+05\n",
       "4     17860.84 -2.397028e+05\n",
       "5    200000.00  5.947641e+05\n",
       "6    450000.00  6.171711e+05\n",
       "7     33000.00 -6.199223e+04\n",
       "8   1705992.00  6.194891e+05\n",
       "9   2100000.00  1.516541e+06\n",
       "10    51500.00 -7.280940e+04\n",
       "11   800000.00  8.659659e+05\n",
       "12   189000.00  4.479598e+05\n",
       "13    49999.00 -1.415757e+05\n",
       "14  2500000.00  1.822512e+06\n",
       "15    17900.00 -3.108605e+04\n",
       "16   890000.00  8.953268e+05\n",
       "17   110000.00  2.996101e+05\n",
       "18    16000.00 -5.426569e+04\n",
       "19   675000.00  6.573492e+05\n",
       "20    17950.00 -2.937886e+05\n",
       "21     5048.99 -1.392577e+05\n",
       "22    99000.00  5.561314e+05\n",
       "23   145440.00  1.527322e+04\n",
       "24    40198.00 -1.933435e+05\n",
       "25    67900.00  2.531773e+04\n",
       "26   191799.00  2.238900e+05\n",
       "27    45999.00 -4.422118e+04\n",
       "28   400000.00  3.676037e+05\n",
       "29   149000.00  2.393430e+05"
      ]
     },
     "execution_count": 46,
     "metadata": {},
     "output_type": "execute_result"
    }
   ],
   "source": [
    "data_2 = pd.DataFrame({'Actual': y_test_2.flatten(), 'Predicted': y_predicted_2.flatten()})\n",
    "data_2.head(30)"
   ]
  },
  {
   "cell_type": "code",
   "execution_count": null,
   "id": "504fe665",
   "metadata": {},
   "outputs": [],
   "source": []
  }
 ],
 "metadata": {
  "kernelspec": {
   "display_name": "Python 3 (ipykernel)",
   "language": "python",
   "name": "python3"
  },
  "language_info": {
   "codemirror_mode": {
    "name": "ipython",
    "version": 3
   },
   "file_extension": ".py",
   "mimetype": "text/x-python",
   "name": "python",
   "nbconvert_exporter": "python",
   "pygments_lexer": "ipython3",
   "version": "3.9.13"
  }
 },
 "nbformat": 4,
 "nbformat_minor": 5
}
